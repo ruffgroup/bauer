{
 "cells": [
  {
   "cell_type": "code",
   "execution_count": 61,
   "metadata": {},
   "outputs": [],
   "source": [
    "from bauer.models import ExpectedUtilityRiskModel, ExpectedUtilityRiskRegressionModel, RiskModel"
   ]
  },
  {
   "cell_type": "code",
   "execution_count": 62,
   "metadata": {},
   "outputs": [],
   "source": [
    "from risk_experiment.utils.data import get_all_behavior"
   ]
  },
  {
   "cell_type": "code",
   "execution_count": 63,
   "metadata": {},
   "outputs": [
    {
     "name": "stderr",
     "output_type": "stream",
     "text": [
      "100%|██████████| 30/30 [00:01<00:00, 17.61it/s]\n"
     ]
    }
   ],
   "source": [
    "df = get_all_behavior(sessions='3t2', bids_folder='/data/ds-risk')"
   ]
  },
  {
   "cell_type": "code",
   "execution_count": 64,
   "metadata": {},
   "outputs": [],
   "source": [
    "df['choice'] = df['choice'] == 2"
   ]
  },
  {
   "cell_type": "code",
   "execution_count": 65,
   "metadata": {},
   "outputs": [
    {
     "name": "stderr",
     "output_type": "stream",
     "text": [
      "Auto-assigning NUTS sampler...\n",
      "Initializing NUTS using jitter+adapt_diag...\n",
      "Multiprocess sampling (4 chains in 4 jobs)\n",
      "NUTS: [alpha_mu_untransformed, alpha_sd, alpha_offset, sigma_mu_untransformed, sigma_sd, sigma_offset, phi_mu_untransformed, phi_sd, phi_offset]\n",
      "WARNING (aesara.tensor.blas): Using NumPy C-API based implementation for BLAS functions.\n"
     ]
    }
   ],
   "source": [
    "model = ExpectedUtilityRiskModel(d, save_trialwise_eu=True, probability_distortion=True)\n",
    "model.build_estimation_model()\n",
    "idata = model.sample(target_accept=0.9)"
   ]
  },
  {
   "cell_type": "code",
   "execution_count": 6,
   "metadata": {},
   "outputs": [],
   "source": [
    "model = ExpectedUtilityRiskModel(d, store_eu=True)\n",
    "model.build_estimation_model()"
   ]
  },
  {
   "cell_type": "code",
   "execution_count": 7,
   "metadata": {},
   "outputs": [
    {
     "name": "stderr",
     "output_type": "stream",
     "text": [
      "Auto-assigning NUTS sampler...\n",
      "Initializing NUTS using jitter+adapt_diag...\n",
      "Initializing NUTS using jitter+adapt_diag...\n",
      "Multiprocess sampling (4 chains in 4 jobs)\n",
      "NUTS: [alpha_mu_untransformed, alpha_sd, alpha_offset, sigma_mu_untransformed, sigma_sd, sigma_offset]\n",
      "WARNING (aesara.tensor.blas): Using NumPy C-API based implementation for BLAS functions.\n",
      "WARNING (aesara.tensor.blas): Using NumPy C-API based implementation for BLAS functions.\n",
      "WARNING (aesara.tensor.blas): Using NumPy C-API based implementation for BLAS functions.\n",
      "WARNING (aesara.tensor.blas): Using NumPy C-API based implementation for BLAS functions.\n"
     ]
    },
    {
     "name": "stderr",
     "output_type": "stream",
     "text": [
      "Sampling 4 chains for 1_000 tune and 1_000 draw iterations (4_000 + 4_000 draws total) took 80 seconds.\n",
      "There were 3 divergences after tuning. Increase `target_accept` or reparameterize.\n",
      "There were 2 divergences after tuning. Increase `target_accept` or reparameterize.\n",
      "There were 9 divergences after tuning. Increase `target_accept` or reparameterize.\n",
      "There were 6 divergences after tuning. Increase `target_accept` or reparameterize.\n"
     ]
    }
   ],
   "source": [
    "idata = model.sample()"
   ]
  },
  {
   "cell_type": "code",
   "execution_count": 20,
   "metadata": {},
   "outputs": [
    {
     "name": "stdout",
     "output_type": "stream",
     "text": [
      " |████████████████████████████████████████| 100.00% [4000/4000 00:00<00:00]\r"
     ]
    }
   ],
   "source": [
    "ppc = model.ppc(d, idata, var_names='p')\n",
    "ppc.loc[ppc.index.get_level_values('risky_first')] = 1 - ppc.loc[ppc.index.get_level_values('risky_first')]"
   ]
  },
  {
   "cell_type": "code",
   "execution_count": 21,
   "metadata": {},
   "outputs": [],
   "source": [
    "from bauer.utils.plotting import plot_ppc\n",
    "from risk_experiment.cogmodels.utils import plot_ppc, cluster_offers"
   ]
  },
  {
   "cell_type": "code",
   "execution_count": 22,
   "metadata": {},
   "outputs": [],
   "source": [
    "# if not (d.groupby(['subject', 'log(risky/safe)']).size().groupby('subject').size() < 7).all():\n",
    "#     d['log(risky/safe)'] = d.groupby(['subject'],\n",
    "#                                     group_keys=False).apply(cluster_offers)"
   ]
  },
  {
   "cell_type": "code",
   "execution_count": 56,
   "metadata": {},
   "outputs": [
    {
     "ename": "NameError",
     "evalue": "name 'plot_ppc' is not defined",
     "output_type": "error",
     "traceback": [
      "\u001b[0;31m---------------------------------------------------------------------------\u001b[0m",
      "\u001b[0;31mNameError\u001b[0m                                 Traceback (most recent call last)",
      "Cell \u001b[0;32mIn[56], line 1\u001b[0m\n\u001b[0;32m----> 1\u001b[0m plot_ppc(d, ppc, var_name\u001b[39m=\u001b[39m\u001b[39m'\u001b[39m\u001b[39mbernoulli\u001b[39m\u001b[39m'\u001b[39m, level\u001b[39m=\u001b[39m\u001b[39m'\u001b[39m\u001b[39mgroup\u001b[39m\u001b[39m'\u001b[39m, plot_type\u001b[39m=\u001b[39m\u001b[39m3\u001b[39m)\n",
      "\u001b[0;31mNameError\u001b[0m: name 'plot_ppc' is not defined"
     ]
    }
   ],
   "source": [
    "plot_ppc(d, ppc, var_name='bernoulli', level='group', plot_type=3)"
   ]
  },
  {
   "cell_type": "code",
   "execution_count": 23,
   "metadata": {},
   "outputs": [
    {
     "name": "stdout",
     "output_type": "stream",
     "text": [
      "\u001b[0;31mSignature:\u001b[0m\n",
      "\u001b[0mplot_ppc\u001b[0m\u001b[0;34m(\u001b[0m\u001b[0;34m\u001b[0m\n",
      "\u001b[0;34m\u001b[0m    \u001b[0mdf\u001b[0m\u001b[0;34m,\u001b[0m\u001b[0;34m\u001b[0m\n",
      "\u001b[0;34m\u001b[0m    \u001b[0mppc\u001b[0m\u001b[0;34m,\u001b[0m\u001b[0;34m\u001b[0m\n",
      "\u001b[0;34m\u001b[0m    \u001b[0mplot_type\u001b[0m\u001b[0;34m=\u001b[0m\u001b[0;36m1\u001b[0m\u001b[0;34m,\u001b[0m\u001b[0;34m\u001b[0m\n",
      "\u001b[0;34m\u001b[0m    \u001b[0mvar_name\u001b[0m\u001b[0;34m=\u001b[0m\u001b[0;34m'll_bernoulli'\u001b[0m\u001b[0;34m,\u001b[0m\u001b[0;34m\u001b[0m\n",
      "\u001b[0;34m\u001b[0m    \u001b[0mlevel\u001b[0m\u001b[0;34m=\u001b[0m\u001b[0;34m'subject'\u001b[0m\u001b[0;34m,\u001b[0m\u001b[0;34m\u001b[0m\n",
      "\u001b[0;34m\u001b[0m    \u001b[0mcol_wrap\u001b[0m\u001b[0;34m=\u001b[0m\u001b[0;36m5\u001b[0m\u001b[0;34m,\u001b[0m\u001b[0;34m\u001b[0m\n",
      "\u001b[0;34m\u001b[0m    \u001b[0mlegend\u001b[0m\u001b[0;34m=\u001b[0m\u001b[0;32mTrue\u001b[0m\u001b[0;34m,\u001b[0m\u001b[0;34m\u001b[0m\n",
      "\u001b[0;34m\u001b[0m\u001b[0;34m)\u001b[0m\u001b[0;34m\u001b[0m\u001b[0;34m\u001b[0m\u001b[0m\n",
      "\u001b[0;31mDocstring:\u001b[0m <no docstring>\n",
      "\u001b[0;31mFile:\u001b[0m      ~/git/risk_experiment/risk_experiment/cogmodels/utils.py\n",
      "\u001b[0;31mType:\u001b[0m      function"
     ]
    }
   ],
   "source": [
    "plot_ppc?"
   ]
  },
  {
   "cell_type": "code",
   "execution_count": 9,
   "metadata": {},
   "outputs": [],
   "source": [
    "with model.estimation_model:\n",
    "    model_inputs = model.get_model_inputs()"
   ]
  },
  {
   "cell_type": "code",
   "execution_count": 18,
   "metadata": {},
   "outputs": [],
   "source": [
    "from bauer.utils import cumulative_normal"
   ]
  },
  {
   "cell_type": "code",
   "execution_count": 26,
   "metadata": {},
   "outputs": [],
   "source": [
    "eu1 = model_inputs['p1'] * model_inputs['n1']\n",
    "eu2 = model_inputs['p2'] * model_inputs['n2']\n",
    "\n",
    "\n",
    "p = cumulative_normal(eu2 - eu1, 0.0, 100)"
   ]
  },
  {
   "cell_type": "code",
   "execution_count": 25,
   "metadata": {},
   "outputs": [],
   "source": [
    "def prob_distortion(p, phi):\n",
    "    return (p**phi) / ((p**phi + (1-p)**phi)**(1/phi))"
   ]
  },
  {
   "cell_type": "code",
   "execution_count": 33,
   "metadata": {},
   "outputs": [
    {
     "data": {
      "text/plain": [
       "<matplotlib.lines.Line2D at 0x1106163e0>"
      ]
     },
     "execution_count": 33,
     "metadata": {},
     "output_type": "execute_result"
    },
    {
     "data": {
      "image/png": "[encoded data removed]",
      "text/plain": [
       "<Figure size 640x480 with 1 Axes>"
      ]
     },
     "metadata": {},
     "output_type": "display_data"
    }
   ],
   "source": [
    "import numpy as np\n",
    "import matplotlib.pyplot as plt\n",
    "p = np.linspace(0,1)\n",
    "\n",
    "plt.plot(p, prob_distortion(p, .61))\n",
    "plt.axhline(0.5)\n",
    "plt.axvline(0.5)"
   ]
  },
  {
   "cell_type": "code",
   "execution_count": null,
   "metadata": {},
   "outputs": [
    {
     "data": {
      "text/plain": [
       "array([0.50897544, 0.5125646 , 0.4986037 , 0.47667518, 0.50039894,\n",
       "       0.51635205, 0.54141533, 0.49940159, 0.51136832, 0.49581118,\n",
       "       0.50817774, 0.52511675, 0.48364795, 0.45858467, 0.51655135,\n",
       "       0.49082514, 0.50119683, 0.51774707, 0.48803353, 0.51774707,\n",
       "       0.50059841, 0.49980053, 0.49621011, 0.49102456, 0.49760636,\n",
       "       0.50538556, 0.50378989, 0.50738001, 0.48763477, 0.4980053 ,\n",
       "       0.52073565, 0.48344865, 0.4980053 , 0.4986037 , 0.52929588,\n",
       "       0.50817774, 0.49321831, 0.49401609, 0.47926435, 0.50239364,\n",
       "       0.49980053, 0.48384725, 0.48863168, 0.49182226, 0.50618336,\n",
       "       0.49461444, 0.5019947 , 0.49621011, 0.54795646, 0.46692577,\n",
       "       0.48763477, 0.53585639, 0.50897544, 0.50917486, 0.48225293,\n",
       "       0.49581118, 0.51037133, 0.5227274 , 0.51575412, 0.50897544,\n",
       "       0.49102456, 0.49760636, 0.49321831, 0.47488325, 0.51057073,\n",
       "       0.50239364, 0.48364795, 0.4874354 , 0.50777888, 0.48922987,\n",
       "       0.47926435, 0.50059841, 0.50718057, 0.52332482, 0.48962867,\n",
       "       0.50279257, 0.48205365, 0.51236523, 0.49461444, 0.46951066,\n",
       "       0.48803353, 0.45204354, 0.50119683, 0.4874354 , 0.51615275,\n",
       "       0.5227274 , 0.51077013, 0.50598391, 0.50478719, 0.50458774,\n",
       "       0.53048934, 0.51196647, 0.49281943, 0.5217316 , 0.51077013,\n",
       "       0.50678169, 0.50019947, 0.53048934, 0.51196647, 0.54795646,\n",
       "       0.49880317, 0.46692577, 0.54141533, 0.49880317, 0.49720743,\n",
       "       0.51794635, 0.53585639, 0.50738001, 0.49760636, 0.49082514,\n",
       "       0.49521281, 0.5019947 , 0.5013963 , 0.4772726 , 0.50718057,\n",
       "       0.53307423, 0.4782684 , 0.51655135, 0.48863168, 0.49960106,\n",
       "       0.49381664, 0.50378989, 0.50598391, 0.5217316 , 0.52929588,\n",
       "       0.5125646 , 0.51794635, 0.49222112, 0.48942927, 0.49720743,\n",
       "       0.52511675, 0.50458774, 0.47070412, 0.49401609, 0.48205365,\n",
       "       0.46414361, 0.5013963 , 0.49182226, 0.52332482, 0.47488325,\n",
       "       0.53307423, 0.48424588, 0.49261999, 0.49102456, 0.47667518,\n",
       "       0.51615275, 0.51635205, 0.49940159, 0.52073565, 0.50538556,\n",
       "       0.49281943, 0.51136832, 0.50019947, 0.50917486, 0.50239364,\n",
       "       0.50239364, 0.48922987, 0.45858467, 0.50418882, 0.49102456,\n",
       "       0.47070412, 0.49541226, 0.49261999, 0.45204354, 0.50418882,\n",
       "       0.48962867, 0.46414361, 0.51057073, 0.4772726 , 0.50618336,\n",
       "       0.49960106, 0.46951066, 0.49541226, 0.50777888, 0.49521281,\n",
       "       0.51236523, 0.48424588, 0.50279257, 0.48384725, 0.4782684 ,\n",
       "       0.50039894, 0.48942927, 0.51037133, 0.48344865, 0.50897544,\n",
       "       0.49222112, 0.48225293, 0.49381664, 0.50678169, 0.50478719,\n",
       "       0.49760636, 0.51575412, 0.48863168, 0.50418882, 0.51894264,\n",
       "       0.52392218, 0.49621011, 0.5085766 , 0.49242055, 0.52750519,\n",
       "       0.45422256, 0.48863168, 0.49621011, 0.49301887, 0.51136832,\n",
       "       0.44294765, 0.45917991, 0.48623922, 0.50678169, 0.40846319,\n",
       "       0.54577744, 0.49640957, 0.36843543, 0.51136832, 0.50019947,\n",
       "       0.50698113, 0.45501528, 0.49940159, 0.49281943, 0.51794635,\n",
       "       0.46752216, 0.43525922, 0.5227274 , 0.54577744, 0.49940159,\n",
       "       0.47249481, 0.50678169, 0.53367055, 0.51515616, 0.52869905,\n",
       "       0.56474078, 0.45422256, 0.54775843, 0.5085766 , 0.49242055,\n",
       "       0.52750519, 0.50718057, 0.52869905, 0.50359043, 0.49541226,\n",
       "       0.56670836, 0.56670836, 0.48823291, 0.51376078, 0.48364795,\n",
       "       0.46732336, 0.50059841, 0.63156457, 0.47707345, 0.54082009,\n",
       "       0.59153681, 0.52252825, 0.51176709, 0.47130095, 0.4914234 ,\n",
       "       0.49162283, 0.49880317, 0.53267664, 0.50817774, 0.49162283,\n",
       "       0.50378989, 0.48105736, 0.50757945, 0.45501528, 0.48564118,\n",
       "       0.47747175, 0.45917991, 0.43329164, 0.49581118, 0.47607782,\n",
       "       0.48484384, 0.48623922, 0.50897544, 0.4914234 , 0.53267664,\n",
       "       0.5125646 , 0.53247784, 0.50458774, 0.59483487, 0.50179523,\n",
       "       0.49301887, 0.51435882, 0.51376078, 0.49102456, 0.4874354 ,\n",
       "       0.50837717, 0.48484384, 0.55705235, 0.50698113, 0.49281943,\n",
       "       0.52292655, 0.50817774, 0.49880317, 0.51515616, 0.53367055,\n",
       "       0.51515616, 0.49820477, 0.48065888, 0.50757945, 0.50378989,\n",
       "       0.51934112, 0.51894264, 0.56474078, 0.53247784, 0.52392218,\n",
       "       0.55705235, 0.48484384, 0.47707345, 0.63156457, 0.54498472,\n",
       "       0.59483487, 0.53347178, 0.49182226, 0.50458774, 0.51515616,\n",
       "       0.49321831, 0.50179523, 0.54498472, 0.50119683, 0.50119683,\n",
       "       0.54775843, 0.52252825, 0.49980053, 0.4772726 , 0.51176709,\n",
       "       0.45224157, 0.5125646 , 0.48564118, 0.46652822, 0.52292655,\n",
       "       0.43329164, 0.49820477, 0.36843543, 0.47747175, 0.48484384,\n",
       "       0.50019947, 0.48823291, 0.49541226, 0.49321831, 0.46632945,\n",
       "       0.49182226, 0.54082009, 0.48364795, 0.48205365, 0.49980053,\n",
       "       0.50418882, 0.50059841, 0.51934112, 0.47607782, 0.51635205,\n",
       "       0.51635205, 0.50897544, 0.49640957, 0.49541226, 0.49581118,\n",
       "       0.44294765, 0.46652822, 0.47249481, 0.48105736, 0.50458774,\n",
       "       0.40846319, 0.5227274 , 0.45224157, 0.48065888, 0.43525922,\n",
       "       0.49541226, 0.50458774, 0.40516513, 0.40516513, 0.46752216,\n",
       "       0.47130095, 0.51794635, 0.46732336, 0.53347178, 0.4874354 ,\n",
       "       0.4772726 , 0.48205365, 0.59153681, 0.50359043, 0.50837717,\n",
       "       0.49102456, 0.51435882, 0.46632945, 0.50718057, 0.4968085 ,\n",
       "       0.47707345, 0.58725912, 0.47508233, 0.54280384, 0.49840424,\n",
       "       0.5625746 , 0.52033724, 0.49301887, 0.48364795, 0.45422256,\n",
       "       0.51515616, 0.48982807, 0.48723603, 0.5125646 , 0.48623922,\n",
       "       0.53267664, 0.50259311, 0.45699785, 0.50239364, 0.44077682,\n",
       "       0.49601064, 0.50299204, 0.50698113, 0.5063828 , 0.52969373,\n",
       "       0.49182226, 0.51276397, 0.52551489, 0.51515616, 0.52153242,\n",
       "       0.51336207, 0.50398936, 0.51336207, 0.48603987, 0.5063828 ,\n",
       "       0.50418882, 0.48484384, 0.5125646 , 0.5031915 , 0.50698113,\n",
       "       0.4936172 , 0.50299204, 0.52491767, 0.50598391, 0.47966276,\n",
       "       0.49720743, 0.48344865, 0.50558501, 0.49700796, 0.49321831,\n",
       "       0.49740689, 0.47508233, 0.54300215, 0.49102456, 0.51655135,\n",
       "       0.50558501, 0.49700796, 0.49022689, 0.49840424, 0.47030627,\n",
       "       0.53148369, 0.48623922, 0.46970955, 0.50817774, 0.48922987,\n",
       "       0.48484384, 0.47030627, 0.47448511, 0.51635205, 0.54577744,\n",
       "       0.4980053 , 0.49182226, 0.48045965, 0.49401609, 0.50279257,\n",
       "       0.50279257, 0.46851631, 0.50718057, 0.45422256, 0.55922318,\n",
       "       0.51376078, 0.52551489, 0.51077013, 0.46473964, 0.50418882,\n",
       "       0.53267664, 0.47966276, 0.51954035, 0.48663793, 0.50897544,\n",
       "       0.47846758, 0.51396013, 0.51396013, 0.51575412, 0.50678169,\n",
       "       0.48922987, 0.52292655, 0.48723603, 0.45719616, 0.50977311,\n",
       "       0.45699785, 0.50159576, 0.5031915 , 0.49441499, 0.50239364,\n",
       "       0.4980053 , 0.41274088, 0.4874354 , 0.4874354 , 0.51276397,\n",
       "       0.48424588, 0.54280384, 0.49581118, 0.51017193, 0.5019947 ,\n",
       "       0.46732336, 0.49541226, 0.48045965, 0.52153242, 0.49760636,\n",
       "       0.49301887, 0.53526036, 0.51655135, 0.49740689, 0.49321831,\n",
       "       0.49581118, 0.54300215, 0.50718057, 0.51376078, 0.53029045,\n",
       "       0.51017193, 0.51635205, 0.50159576, 0.47846758, 0.41274088,\n",
       "       0.51356142, 0.53148369, 0.45719616, 0.50259311, 0.4374254 ,\n",
       "       0.54577744, 0.49720743, 0.48344865, 0.51356142, 0.50598391,\n",
       "       0.50977311, 0.51954035, 0.4936172 , 0.50458774, 0.50897544,\n",
       "       0.49441499, 0.49601064, 0.50678169, 0.50458774, 0.44077682,\n",
       "       0.5019947 , 0.50398936, 0.48643858, 0.46851631, 0.52969373,\n",
       "       0.51077013, 0.49541226, 0.48603987, 0.49022689, 0.49102456,\n",
       "       0.55922318, 0.52033724, 0.48982807, 0.46970955, 0.4374254 ,\n",
       "       0.49281943, 0.47448511, 0.52491767, 0.51575412, 0.49281943,\n",
       "       0.52292655, 0.46473964, 0.48663793, 0.50817774, 0.48643858,\n",
       "       0.46732336, 0.4968085 , 0.48424588, 0.49401609, 0.5625746 ,\n",
       "       0.53029045, 0.47707345, 0.48364795, 0.58725912, 0.53526036,\n",
       "       0.49760636])"
      ]
     },
     "execution_count": 27,
     "metadata": {},
     "output_type": "execute_result"
    }
   ],
   "source": [
    "p.eval()"
   ]
  },
  {
   "cell_type": "code",
   "execution_count": 29,
   "metadata": {},
   "outputs": [
    {
     "data": {
      "text/plain": [
       "array([ 2.,  2.,  2.,  1.,  2.,  2.,  2.,  1.,  2.,  1.,  1.,  2.,  1.,\n",
       "        1.,  2.,  2.,  2.,  2.,  1.,  2.,  1.,  2.,  2.,  1.,  1.,  1.,\n",
       "        2.,  2.,  2.,  1.,  1.,  2.,  1.,  2.,  2.,  2.,  1.,  2.,  2.,\n",
       "        2.,  1.,  1.,  2.,  1.,  2.,  1.,  2.,  1.,  2.,  2.,  1.,  2.,\n",
       "        2.,  2.,  1.,  2.,  2.,  1.,  2.,  2.,  1.,  2.,  1.,  2.,  2.,\n",
       "        1.,  1.,  1.,  2.,  2.,  1.,  1.,  2.,  2.,  2.,  2.,  1.,  2.,\n",
       "        2.,  1.,  1.,  1.,  1.,  1.,  2.,  2.,  2.,  2.,  2.,  2.,  2.,\n",
       "        2.,  1.,  2.,  1.,  1.,  2.,  2.,  1.,  2.,  2.,  1.,  2.,  2.,\n",
       "        1.,  2.,  2.,  2.,  2.,  2.,  2.,  1.,  2.,  1.,  2.,  2.,  1.,\n",
       "        1.,  2.,  2.,  2.,  2.,  2.,  1.,  2.,  2.,  2.,  1.,  1.,  1.,\n",
       "        2.,  2.,  2.,  1.,  2.,  1.,  2.,  1.,  2.,  1.,  2.,  1.,  2.,\n",
       "        1.,  1.,  2.,  2.,  1.,  2.,  2.,  1.,  2.,  1.,  2.,  1.,  2.,\n",
       "        1.,  1.,  2.,  1.,  2.,  2.,  2.,  1.,  2.,  1.,  2.,  2.,  1.,\n",
       "        2.,  2.,  2.,  1.,  2.,  2.,  2.,  1.,  2.,  1.,  1.,  1.,  1.,\n",
       "        2.,  2.,  2.,  2.,  1.,  1.,  2.,  1.,  1.,  2.,  1.,  1.,  1.,\n",
       "        1.,  1.,  1.,  1.,  1.,  1.,  1.,  1.,  1.,  2.,  2.,  2.,  2.,\n",
       "        2.,  2.,  2.,  2.,  2.,  2.,  2.,  2.,  2.,  2.,  2.,  2.,  2.,\n",
       "        2.,  2.,  2.,  2.,  2.,  2.,  2.,  1.,  1.,  1.,  1.,  1.,  1.,\n",
       "        1.,  1.,  1.,  1.,  1.,  1.,  1.,  1.,  1.,  1.,  1.,  1.,  1.,\n",
       "        1.,  1.,  1.,  1.,  1.,  2.,  2.,  2.,  2.,  2.,  2.,  1.,  2.,\n",
       "        2.,  2.,  2.,  2.,  2.,  2.,  2.,  2.,  2.,  2.,  2.,  2.,  1.,\n",
       "        2.,  2.,  2.,  1.,  1.,  1.,  1.,  1.,  1.,  1.,  1.,  1.,  1.,\n",
       "        1.,  1.,  2.,  2.,  2.,  2.,  2.,  2.,  2.,  2.,  2.,  2.,  2.,\n",
       "        2.,  1.,  1.,  1.,  1.,  1.,  1.,  1.,  1.,  1.,  1.,  1.,  1.,\n",
       "        1.,  1.,  1.,  1.,  1.,  1.,  1.,  1.,  1.,  1.,  1.,  1.,  2.,\n",
       "        2.,  2.,  2.,  2.,  2.,  1.,  1.,  1.,  1.,  2.,  2.,  1.,  1.,\n",
       "        1.,  1.,  1.,  1.,  1.,  1.,  1.,  1.,  1.,  1.,  2.,  2.,  2.,\n",
       "        2.,  2.,  2., nan,  2.,  2.,  2.,  2.,  2.,  2.,  2.,  2.,  2.,\n",
       "        2.,  2.,  2.,  2.,  2.,  2.,  2.,  2.,  1.,  1.,  1.,  1.,  1.,\n",
       "        1.,  1.,  1.,  1.,  1.,  1.,  1.,  1.,  1.,  1.,  1.,  2.,  2.,\n",
       "        1.,  2.,  2.,  2.,  1.,  2.,  2.,  1.,  1.,  1.,  2.,  1.,  2.,\n",
       "        2.,  2.,  1.,  2.,  1.,  2.,  2.,  1.,  2.,  1.,  2.,  2.,  1.,\n",
       "        2.,  1.,  1.,  2.,  2.,  1.,  2.,  2.,  1.,  1.,  2.,  2.,  1.,\n",
       "        1.,  1.,  2.,  2.,  1.,  1.,  2.,  1.,  1.,  1.,  2.,  1.,  1.,\n",
       "        2.,  2.,  1.,  2.,  1.,  1.,  1.,  1.,  1.,  2.,  2.,  2.,  2.,\n",
       "        1.,  2.,  1.,  1.,  2.,  2.,  1.,  2.,  1.,  1.,  2.,  1.,  2.,\n",
       "        2.,  2.,  2.,  1.,  2.,  2.,  2.,  1.,  2.,  2.,  1.,  2.,  1.,\n",
       "        2.,  2.,  1.,  2.,  2.,  2.,  2.,  1.,  2.,  1.,  2.,  1.,  1.,\n",
       "        2.,  1.,  2.,  1.,  1.,  2.,  1.,  1.,  1.,  2.,  2.,  2.,  1.,\n",
       "        2.,  1.,  1.,  1.,  2.,  2.,  2.,  2.,  1.,  2.,  2.,  1.,  2.,\n",
       "        2.,  2.,  1.,  2.,  2.,  2.,  1.,  1.,  2.,  2.,  2.,  2.,  1.,\n",
       "        2.,  2.,  2.,  1.,  2.,  2.,  2.,  2.,  2.,  1.,  1.,  2.,  2.,\n",
       "        1.,  1.,  1.,  1.,  1.,  2.,  2.,  1.,  2.,  1.,  2.,  2.,  2.,\n",
       "        2.,  2.,  2.,  2.,  2.,  1.,  1.,  2.,  1.,  1.,  1.,  2.,  1.,\n",
       "        1.,  1.,  1.,  1.])"
      ]
     },
     "execution_count": 29,
     "metadata": {},
     "output_type": "execute_result"
    }
   ],
   "source": [
    "model.estimation_model['choice'].eval()"
   ]
  },
  {
   "cell_type": "code",
   "execution_count": null,
   "metadata": {},
   "outputs": [],
   "source": []
  }
 ],
 "metadata": {
  "kernelspec": {
   "display_name": "base",
   "language": "python",
   "name": "python3"
  },
  "language_info": {
   "codemirror_mode": {
    "name": "ipython",
    "version": 3
   },
   "file_extension": ".py",
   "mimetype": "text/x-python",
   "name": "python",
   "nbconvert_exporter": "python",
   "pygments_lexer": "ipython3",
   "version": "3.10.6"
  },
  "orig_nbformat": 4
 },
 "nbformat": 4,
 "nbformat_minor": 2
}
